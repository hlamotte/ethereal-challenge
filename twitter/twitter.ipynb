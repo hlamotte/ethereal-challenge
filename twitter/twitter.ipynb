{
 "cells": [
  {
   "cell_type": "code",
   "execution_count": 31,
   "metadata": {},
   "outputs": [],
   "source": [
    "import tweepy\n"
   ]
  },
  {
   "cell_type": "code",
   "execution_count": 38,
   "metadata": {},
   "outputs": [],
   "source": [
    "import json\n",
    "\n",
    "# Open the JSON file in read mode using the \"with\" statement\n",
    "with open(\"../secrets.json\", 'r') as json_file:\n",
    "    # Load the data from the JSON file into a Python dictionary\n",
    "    secrets = json.load(json_file)\n",
    "\n",
    "# Access the data as a Python dictionary"
   ]
  },
  {
   "cell_type": "code",
   "execution_count": 33,
   "metadata": {},
   "outputs": [],
   "source": [
    "from requests_oauthlib import OAuth1Session\n",
    "import os\n",
    "import json\n",
    "\n",
    "# In your terminal please set your environment variables by running the following lines of code.\n",
    "# export 'CONSUMER_KEY'='<your_consumer_key>'\n",
    "# export 'CONSUMER_SECRET'='<your_consumer_secret>'\n",
    "\n",
    "consumer_key = secrets['consumer_key']\n",
    " \n",
    "consumer_secret = secrets['consumer_secret']   \n",
    "    \n",
    "# User fields are adjustable, options include:\n",
    "# created_at, description, entities, id, location, name,\n",
    "# pinned_tweet_id, profile_image_url, protected,\n",
    "# public_metrics, url, username, verified, and withheld\n",
    "fields = \"created_at,description\"\n",
    "params = {\"user.fields\": fields}\n",
    "\n",
    "# Get request token\n",
    "request_token_url = \"https://api.twitter.com/oauth/request_token\"\n",
    "oauth = OAuth1Session(consumer_key, client_secret=consumer_secret)\n",
    "\n",
    "fetch_response = oauth.fetch_request_token(request_token_url)\n",
    "#print(fetch_response)\n",
    "\n"
   ]
  },
  {
   "cell_type": "code",
   "execution_count": 34,
   "metadata": {},
   "outputs": [
    {
     "name": "stdout",
     "output_type": "stream",
     "text": [
      "Got OAuth token: 9YK49gAAAAABnNn5AAABiAsxKFQ\n",
      "Please go here and authorize: https://api.twitter.com/oauth/authorize?oauth_token=9YK49gAAAAABnNn5AAABiAsxKFQ\n"
     ]
    }
   ],
   "source": [
    "resource_owner_key = fetch_response.get(\"oauth_token\")\n",
    "resource_owner_secret = fetch_response.get(\"oauth_token_secret\")\n",
    "print(\"Got OAuth token: %s\" % resource_owner_key)\n",
    "\n",
    "# # Get authorization\n",
    "base_authorization_url = \"https://api.twitter.com/oauth/authorize\"\n",
    "authorization_url = oauth.authorization_url(base_authorization_url)\n",
    "print(\"Please go here and authorize: %s\" % authorization_url)"
   ]
  },
  {
   "cell_type": "code",
   "execution_count": 35,
   "metadata": {},
   "outputs": [],
   "source": [
    "verifier = input(\"Paste the PIN here: \")"
   ]
  },
  {
   "cell_type": "code",
   "execution_count": 36,
   "metadata": {},
   "outputs": [
    {
     "name": "stdout",
     "output_type": "stream",
     "text": [
      "Response code: 200\n",
      "{\n",
      "    \"data\": {\n",
      "        \"created_at\": \"2013-04-29T18:14:33.000Z\",\n",
      "        \"description\": \"\",\n",
      "        \"id\": \"1390126958\",\n",
      "        \"name\": \"Hamish Lamotte\",\n",
      "        \"username\": \"lamotte_hamish\"\n",
      "    }\n",
      "}\n"
     ]
    }
   ],
   "source": [
    "\n",
    "\n",
    "\n",
    "# Get the access token\n",
    "access_token_url = \"https://api.twitter.com/oauth/access_token\"\n",
    "oauth = OAuth1Session(\n",
    "    consumer_key,\n",
    "    client_secret=consumer_secret,\n",
    "    resource_owner_key=resource_owner_key,\n",
    "    resource_owner_secret=resource_owner_secret,\n",
    "    verifier=verifier,\n",
    ")\n",
    "oauth_tokens = oauth.fetch_access_token(access_token_url)\n",
    "\n",
    "access_token = oauth_tokens[\"oauth_token\"]\n",
    "access_token_secret = oauth_tokens[\"oauth_token_secret\"]\n",
    "\n",
    "# Make the request\n",
    "oauth = OAuth1Session(\n",
    "    consumer_key,\n",
    "    client_secret=consumer_secret,\n",
    "    resource_owner_key=access_token,\n",
    "    resource_owner_secret=access_token_secret,\n",
    ")\n",
    "\n",
    "response = oauth.get(\"https://api.twitter.com/2/users/me\", params=params)\n",
    "\n",
    "if response.status_code != 200:\n",
    "    raise Exception(\n",
    "        \"Request returned an error: {} {}\".format(response.status_code, response.text)\n",
    "    )\n",
    "\n",
    "print(\"Response code: {}\".format(response.status_code))\n",
    "\n",
    "json_response = response.json()\n",
    "\n",
    "print(json.dumps(json_response, indent=4, sort_keys=True))"
   ]
  },
  {
   "cell_type": "code",
   "execution_count": 42,
   "metadata": {},
   "outputs": [],
   "source": [
    "import datetime"
   ]
  },
  {
   "cell_type": "code",
   "execution_count": 52,
   "metadata": {},
   "outputs": [],
   "source": [
    "import requests\n",
    "import os\n",
    "import json\n",
    "\n",
    "bearer_token = secrets['bearer_token'] \n",
    "\n",
    "\n",
    "\n",
    "\n",
    "def bearer_oauth(r):\n",
    "    \"\"\"\n",
    "    Method required by bearer token authentication.\n",
    "    \"\"\"\n",
    "\n",
    "    r.headers[\"Authorization\"] = f\"Bearer {bearer_token}\"\n",
    "    r.headers[\"User-Agent\"] = \"v2RecentSearchPython\"\n",
    "    return r\n",
    "\n",
    "def save_response(params, tweets, current_utc_time):\n",
    "    base_path = \"./tweets/\" + current_utc_time\n",
    "    with open(base_path + '_tweets.json', 'w') as f:\n",
    "        json.dump(tweets, f)\n",
    "\n",
    "    with open(base_path + '_queryparams.json', 'w') as f:\n",
    "        json.dump(params, f)\n",
    "\n",
    "def get_recent_tweets(params):\n",
    "    current_utc_time = datetime.datetime.utcnow().strftime('%Y-%m-%dT%H-%M-%S')\n",
    "    search_url = \"https://api.twitter.com/2/tweets/search/recent\"\n",
    "    response = requests.get(search_url, auth=bearer_oauth, params=params)\n",
    "    print(response.status_code)\n",
    "    if response.status_code != 200:\n",
    "        raise Exception(response.status_code, response.text)\n",
    "    save_response(params, response.json(), current_utc_time)\n",
    "    return response.json()\n",
    "\n",
    "\n"
   ]
  },
  {
   "cell_type": "markdown",
   "metadata": {},
   "source": [
    "Docs for filtering tweets query options: https://developer.twitter.com/en/docs/twitter-api/tweets/search/integrate/build-a-query"
   ]
  },
  {
   "cell_type": "code",
   "execution_count": 54,
   "metadata": {},
   "outputs": [
    {
     "name": "stdout",
     "output_type": "stream",
     "text": [
      "200\n"
     ]
    }
   ],
   "source": [
    "# Optional params: start_time,end_time,since_id,until_id,max_results,next_token,\n",
    "# expansions,tweet.fields,media.fields,poll.fields,place.fields,user.fields\n",
    "query_params = {\n",
    "    'query': 'StarkNet development -is:reply -is:retweet',#'(from:twitterdev -is:retweet) OR #twitterdev',\n",
    "    'tweet.fields': 'author_id,created_at',\n",
    "    'max_results': 100\n",
    "    }\n",
    "json_response = get_recent_tweets(query_params)\n"
   ]
  },
  {
   "cell_type": "code",
   "execution_count": 55,
   "metadata": {},
   "outputs": [
    {
     "name": "stdout",
     "output_type": "stream",
     "text": [
      "200\n"
     ]
    }
   ],
   "source": [
    "query_params = {\n",
    "    'query': 'StarkNet new project -is:reply -is:retweet',#'(from:twitterdev -is:retweet) OR #twitterdev',\n",
    "    'tweet.fields': 'author_id,created_at',\n",
    "    'max_results': 100\n",
    "    }\n",
    "json_response = get_recent_tweets(query_params)"
   ]
  },
  {
   "cell_type": "code",
   "execution_count": 57,
   "metadata": {},
   "outputs": [
    {
     "name": "stdout",
     "output_type": "stream",
     "text": [
      "200\n"
     ]
    }
   ],
   "source": [
    "query_params = {\n",
    "    'query': 'StarkNet CAIRO -is:reply -is:retweet lang:en',#'(from:twitterdev -is:retweet) OR #twitterdev',\n",
    "    'tweet.fields': 'author_id,created_at',\n",
    "    'max_results': 100\n",
    "    }\n",
    "json_response = get_recent_tweets(query_params)"
   ]
  },
  {
   "cell_type": "code",
   "execution_count": 58,
   "metadata": {},
   "outputs": [
    {
     "name": "stdout",
     "output_type": "stream",
     "text": [
      "200\n"
     ]
    }
   ],
   "source": [
    "# filter only mentions of a person to find developers on starknet\n",
    "query_params = {\n",
    "    'query': 'StarkNet develop has:mentions -is:reply -is:retweet lang:en',#'(from:twitterdev -is:retweet) OR #twitterdev',\n",
    "    'tweet.fields': 'author_id,created_at',\n",
    "    'max_results': 100\n",
    "    }\n",
    "json_response = get_recent_tweets(query_params)"
   ]
  },
  {
   "cell_type": "code",
   "execution_count": 59,
   "metadata": {},
   "outputs": [
    {
     "name": "stdout",
     "output_type": "stream",
     "text": [
      "200\n"
     ]
    }
   ],
   "source": [
    "\n",
    "# filter only mentions of a person to find developers on starknet also has a link that might be to a project\n",
    "query_params = {\n",
    "    'query': 'StarkNet develop has:mentions has:links -is:reply -is:retweet lang:en',#'(from:twitterdev -is:retweet) OR #twitterdev',\n",
    "    'tweet.fields': 'author_id,created_at',\n",
    "    'max_results': 100\n",
    "    }\n",
    "json_response = get_recent_tweets(query_params)"
   ]
  },
  {
   "cell_type": "code",
   "execution_count": null,
   "metadata": {},
   "outputs": [],
   "source": []
  }
 ],
 "metadata": {
  "kernelspec": {
   "display_name": "Python 3.9.10 ('base')",
   "language": "python",
   "name": "python3"
  },
  "language_info": {
   "codemirror_mode": {
    "name": "ipython",
    "version": 3
   },
   "file_extension": ".py",
   "mimetype": "text/x-python",
   "name": "python",
   "nbconvert_exporter": "python",
   "pygments_lexer": "ipython3",
   "version": "3.9.10"
  },
  "orig_nbformat": 4,
  "vscode": {
   "interpreter": {
    "hash": "38cca0c38332a56087b24af0bc80247f4fced29cb4f7f437d91dc159adec9c4e"
   }
  }
 },
 "nbformat": 4,
 "nbformat_minor": 2
}
