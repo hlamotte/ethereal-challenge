{
 "cells": [
  {
   "cell_type": "code",
   "execution_count": 45,
   "metadata": {},
   "outputs": [],
   "source": [
    "import pandas as pd\n",
    "import json"
   ]
  },
  {
   "cell_type": "code",
   "execution_count": 46,
   "metadata": {},
   "outputs": [],
   "source": [
    "import glob\n",
    "\n",
    "path = './tweets/*tweets.json'\n",
    "tweet_paths = glob.glob(path)\n",
    "\n",
    "path = './tweets/*queryparams.json'\n",
    "query_paths = glob.glob(path)"
   ]
  },
  {
   "cell_type": "code",
   "execution_count": 47,
   "metadata": {},
   "outputs": [],
   "source": [
    "dfs = []\n",
    "for tweet_path in tweet_paths:\n",
    "    with open(tweet_path) as f:\n",
    "        tweet_data = json.load(f)['data']\n",
    "\n",
    "    params_path = tweet_path.split('_')[0] + \"_queryparams.json\"\n",
    "    with open(params_path) as f:\n",
    "        params_data = json.load(f)#['data']\n",
    "\n",
    "    query_time = tweet_path.split('_')[0].split('/')[-1]\n",
    "\n",
    "    df = pd.DataFrame(tweet_data)\n",
    "    df['query'] = params_data['query']\n",
    "    df['query_time'] = query_time\n",
    "    dfs.append(df)"
   ]
  },
  {
   "cell_type": "code",
   "execution_count": 48,
   "metadata": {},
   "outputs": [],
   "source": [
    "tweets = pd.concat(dfs)"
   ]
  },
  {
   "cell_type": "code",
   "execution_count": 49,
   "metadata": {},
   "outputs": [],
   "source": [
    "tweets[['text', 'query', 'id', 'author_id', 'created_at', 'query_time']].to_csv(\"processed_tweets.csv\")"
   ]
  },
  {
   "cell_type": "code",
   "execution_count": null,
   "metadata": {},
   "outputs": [],
   "source": []
  }
 ],
 "metadata": {
  "kernelspec": {
   "display_name": "Python 3.9.10 ('base')",
   "language": "python",
   "name": "python3"
  },
  "language_info": {
   "codemirror_mode": {
    "name": "ipython",
    "version": 3
   },
   "file_extension": ".py",
   "mimetype": "text/x-python",
   "name": "python",
   "nbconvert_exporter": "python",
   "pygments_lexer": "ipython3",
   "version": "3.9.10"
  },
  "orig_nbformat": 4,
  "vscode": {
   "interpreter": {
    "hash": "38cca0c38332a56087b24af0bc80247f4fced29cb4f7f437d91dc159adec9c4e"
   }
  }
 },
 "nbformat": 4,
 "nbformat_minor": 2
}
